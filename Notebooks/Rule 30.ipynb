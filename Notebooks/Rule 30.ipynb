{
 "cells": [
  {
   "cell_type": "code",
   "execution_count": 6,
   "metadata": {
    "collapsed": false
   },
   "outputs": [],
   "source": [
    "# not needed numpy practice\n",
    "import numpy as np\n",
    "import matplotlib.pyplot as plt\n",
    "import matplotlib.image as mpimg\n",
    "from math import *\n",
    "%matplotlib inline"
   ]
  },
  {
   "cell_type": "code",
   "execution_count": 19,
   "metadata": {
    "collapsed": true
   },
   "outputs": [],
   "source": [
    "ymax = 101\n",
    "xmax = 2 * ymax\n",
    "ar = np.zeros((ymax, xmax))\n",
    "ar[0][ceil(xmax / 2)] = 1"
   ]
  },
  {
   "cell_type": "code",
   "execution_count": 20,
   "metadata": {
    "collapsed": true
   },
   "outputs": [],
   "source": [
    "for y in range(ymax - 1):\n",
    "    for x in range(xmax - 2):\n",
    "        if ar[y][x] == 1 and ar[y][x + 1] == 1 and ar[y][x + 2] == 1:\n",
    "            ar[y + 1][x + 1] = 0\n",
    "        elif ar[y][x] == 1 and ar[y][x + 1] == 1 and ar[y][x + 2] == 0:\n",
    "            ar[y + 1][x + 1] = 0\n",
    "        elif ar[y][x] == 1 and ar[y][x + 1] == 0 and ar[y][x + 2] == 1:\n",
    "            ar[y + 1][x + 1] = 0\n",
    "        elif ar[y][x] == 1 and ar[y][x + 1] == 0 and ar[y][x + 2] == 0:\n",
    "            ar[y + 1][x + 1] = 1\n",
    "        elif ar[y][x] == 0 and ar[y][x + 1] == 1 and ar[y][x + 2] == 1:\n",
    "            ar[y + 1][x + 1] = 1\n",
    "        elif ar[y][x] == 0 and ar[y][x + 1] == 1 and ar[y][x + 2] == 0:\n",
    "            ar[y + 1][x + 1] = 1\n",
    "        elif ar[y][x] == 0 and ar[y][x + 1] == 0 and ar[y][x + 2] == 1:\n",
    "            ar[y + 1][x + 1] = 1\n",
    "        elif ar[y][x] == 0 and ar[y][x + 1] == 0 and ar[y][x + 2] == 0:\n",
    "            ar[y + 1][x + 1] = 0"
   ]
  },
  {
   "cell_type": "code",
   "execution_count": 22,
   "metadata": {
    "collapsed": false
   },
   "outputs": [
    {
     "data": {
      "image/png": "[encoded data removed]",
      "text/plain": [
       "<matplotlib.figure.Figure at 0x12a14f06320>"
      ]
     },
     "metadata": {},
     "output_type": "display_data"
    }
   ],
   "source": [
    "fig, ax = plt.subplots()\n",
    "\n",
    "ax.set_title('rule 30')\n",
    "\n",
    "# Move left and bottom spines outward by 10 points\n",
    "ax.spines['left'].set_position(('outward', 10))\n",
    "ax.spines['bottom'].set_position(('outward', 10))\n",
    "# Hide the right and top spines\n",
    "ax.spines['right'].set_visible(False)\n",
    "ax.spines['top'].set_visible(False)\n",
    "# Only show ticks on the left and bottom spines\n",
    "ax.yaxis.set_ticks_position('left')\n",
    "ax.xaxis.set_ticks_position('bottom')\n",
    "\n",
    "ax.imshow(ar, cmap=plt.cm.gray, interpolation='nearest')\n",
    "plt.show()"
   ]
  },
  {
   "cell_type": "code",
   "execution_count": null,
   "metadata": {
    "collapsed": true
   },
   "outputs": [],
   "source": [
    "ar."
   ]
  }
 ],
 "metadata": {
  "kernelspec": {
   "display_name": "Python 3",
   "language": "python",
   "name": "python3"
  },
  "language_info": {
   "codemirror_mode": {
    "name": "ipython",
    "version": 3
   },
   "file_extension": ".py",
   "mimetype": "text/x-python",
   "name": "python",
   "nbconvert_exporter": "python",
   "pygments_lexer": "ipython3",
   "version": "3.6.0"
  }
 },
 "nbformat": 4,
 "nbformat_minor": 2
}
