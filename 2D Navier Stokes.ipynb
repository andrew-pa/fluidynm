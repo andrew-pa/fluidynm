{
 "cells": [
  {
   "cell_type": "markdown",
   "metadata": {},
   "source": [
    "# Navier Stokes 2D\n",
    "\n",
    "A demonstration of Navier Stokes in 2D. Largely with the goal of understanding the implmentation of such a system as a route to a more substantial 3D solver\n",
    "\n",
    "The Navier Stokes equation\n",
    "\n",
    "$\\frac{\\partial \\vec{v}}{\\partial t}+(\\vec{v}\\cdot\\nabla)\\vec{v}=-\\frac{1}{\\rho}\\nabla p + \\nu \\nabla^2\\vec{v}$"
   ]
  },
  {
   "cell_type": "code",
   "execution_count": null,
   "metadata": {
    "collapsed": true
   },
   "outputs": [],
   "source": [
    "import numpy\n",
    "import matplotlib.pyplot as plt\n",
    "import matplotlib.image as mpimg\n",
    "from math import *\n",
    "%matplotlib inline\n",
    "\n",
    "xmax = 20\n",
    "ymax = 20\n",
    "\n",
    "X,Y = numpy.meshgrid(numpy.linspace(0,1,xmax),\n",
    "                     numpy.linspace(0,1,ymax))\n",
    "\n",
    "psi = numpy.zeros((xmax,ymax))\n",
    "psi[:,1] = 1.0\n",
    "\n",
    "u = numpy.zeros((xmax,ymax,2))\n",
    "for x in range(xmax):\n",
    "    for y in range(ymax):\n",
    "        u[x,y,0]=cos(x*0.2)*3\n",
    "        u[x,y,1]=sin(x*0.2)*3\n",
    "\n",
    "def plot_system():\n",
    "    fig = plt.figure(dpi=144)\n",
    "    plt.quiver(X, Y, u[:,:,0], u[:,:,1], psi, antialiased=True)\n",
    "    plt.set_cmap(\"cool\")\n",
    "    plt.show()\n",
    "\n",
    "    im = plt.imshow(psi)\n",
    "    im.set_cmap(\"cool\")\n",
    "    cb = plt.colorbar()\n",
    "\n",
    "plot_system()"
   ]
  }
 ],
 "metadata": {
  "kernelspec": {
   "display_name": "Python 3",
   "language": "python",
   "name": "python3"
  },
  "language_info": {
   "codemirror_mode": {
    "name": "ipython",
    "version": 3
   },
   "file_extension": ".py",
   "mimetype": "text/x-python",
   "name": "python",
   "nbconvert_exporter": "python",
   "pygments_lexer": "ipython3",
   "version": "3.6.1"
  }
 },
 "nbformat": 4,
 "nbformat_minor": 2
}
